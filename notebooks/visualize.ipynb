{
 "cells": [
  {
   "cell_type": "code",
   "execution_count": null,
   "metadata": {
    "collapsed": true,
    "pycharm": {
     "is_executing": true
    }
   },
   "outputs": [],
   "source": [
    "import cv2\n",
    "import numpy as np\n",
    "import yaml\n",
    "from torch.utils.data import DataLoader\n",
    "\n",
    "from src.classes.data.OxfordIIITPetDataset import OxfordIIITPetDataset\n",
    "from src.classes.feature_extraction.FeatureExtractingAlgorithm import FeatureExtractingAlgorithm"
   ]
  },
  {
   "cell_type": "code",
   "execution_count": null,
   "outputs": [],
   "source": [
    "def show_4():\n",
    "    with open('config/training/training_configuration.yaml', 'r') as f:\n",
    "        config = yaml.safe_load(f)\n",
    "\n",
    "    train_loader = DataLoader(OxfordIIITPetDataset(train=True),\n",
    "                              batch_size=config[\"batch_size\"],\n",
    "                              shuffle=True,\n",
    "                              num_workers=config[\"workers\"])\n",
    "    n_feats = 500\n",
    "    key_points_extractor_1 = FeatureExtractingAlgorithm(algorithm=\"SIFT\",\n",
    "                                                        nfeatures=n_feats,\n",
    "                                                        # (default = 0 = all) Small images, few features\n",
    "                                                        nOctaveLayers=3,\n",
    "                                                        # (default = 3) Default should be ok\n",
    "                                                        contrastThreshold=0.04,\n",
    "                                                        # (default = 0.04) Lower = Include kps with lower contrast\n",
    "                                                        edgeThreshold=10,\n",
    "                                                        # (default = 10) Higher = Include KPS with lower edge response\n",
    "                                                        sigma=1.2)  # (default = 1.2) capture finer details in imgs\n",
    "    key_points_extractor_2 = FeatureExtractingAlgorithm(algorithm=\"SIFT\",\n",
    "                                                        nfeatures=n_feats * 2,\n",
    "                                                        # (default = 0 = all) Small images, few features\n",
    "                                                        nOctaveLayers=3,\n",
    "                                                        # (default = 3) Default should be ok\n",
    "                                                        contrastThreshold=0.04,\n",
    "                                                        # (default = 0.04) Lower = Include kps with lower contrast\n",
    "                                                        edgeThreshold=10,\n",
    "                                                        # (default = 10) Higher = Include KPS with lower edge response\n",
    "                                                        sigma=1.2)  # (default = 1.2) capture finer details in imgs\n",
    "    key_points_extractor_3 = FeatureExtractingAlgorithm(algorithm=\"SIFT\",\n",
    "                                                        nfeatures=n_feats * 4,\n",
    "                                                        # (default = 0 = all) Small images, few features\n",
    "                                                        nOctaveLayers=3,\n",
    "                                                        # (default = 3) Default should be ok\n",
    "                                                        contrastThreshold=0.04,\n",
    "                                                        # (default = 0.04) Lower = Include kps with lower contrast\n",
    "                                                        edgeThreshold=10,\n",
    "                                                        # (default = 10) Higher = Include KPS with lower edge response\n",
    "                                                        sigma=1.2)  # (default = 1.2) capture finer details in imgs\n",
    "    key_points_extractor_4 = FeatureExtractingAlgorithm(algorithm=\"SIFT\",\n",
    "                                                        nfeatures=0,\n",
    "                                                        # (default = 0 = all) Small images, few features\n",
    "                                                        nOctaveLayers=3,\n",
    "                                                        # (default = 3) Default should be ok\n",
    "                                                        contrastThreshold=0.04,\n",
    "                                                        # (default = 0.04) Lower = Include kps with lower contrast\n",
    "                                                        edgeThreshold=10,\n",
    "                                                        # (default = 10) Higher = Include KPS with lower edge response\n",
    "                                                        sigma=1.2)  # (default = 1.2) capture finer details in imgs\n",
    "\n",
    "    # for imgs, _ in train_loader:\n",
    "    for imgs, _ in train_loader:\n",
    "        for img in imgs:\n",
    "            # img = (img.numpy().squeeze() * 255).astype(np.uint8).transpose((1, 2, 0))\n",
    "            img = (img.numpy().squeeze() * 255).astype(np.uint8)\n",
    "            img = cv2.cvtColor(img, cv2.COLOR_RGB2BGR)\n",
    "\n",
    "            kp1, _ = key_points_extractor_1.run(img)\n",
    "            kp2, _ = key_points_extractor_2.run(img)\n",
    "            kp3, _ = key_points_extractor_3.run(img)\n",
    "            kp4, _ = key_points_extractor_4.run(img)\n",
    "\n",
    "            print(len(kp1), len(kp2), len(kp3), len(kp4))\n",
    "\n",
    "            keypoints = [kp1, kp2, kp3, kp4]\n",
    "\n",
    "            # Create a blank canvas to display the images\n",
    "            canvas = np.zeros((224 * 2, 224 * 2, 3), dtype=np.uint8)\n",
    "\n",
    "            # Loop through each digit and its keypoints\n",
    "            for i in range(4):\n",
    "                # Draw keypoints on the image\n",
    "                img_kp = cv2.drawKeypoints(img, keypoints[i], None,\n",
    "                                           flags=cv2.DRAW_MATCHES_FLAGS_DRAW_RICH_KEYPOINTS)\n",
    "\n",
    "                # Compute the coordinates for placing the image on the canvas\n",
    "                x = (i % 2) * 224\n",
    "                y = (i // 2) * 224\n",
    "\n",
    "                # Place the image with keypoints on the canvas\n",
    "                canvas[y:y + 224, x:x + 224] = img_kp\n",
    "\n",
    "            cv2.namedWindow('Canvas', cv2.WINDOW_NORMAL)\n",
    "            scale = 4  # Adjust this to change the size of the canvas\n",
    "            resized_canvas = cv2.resize(canvas, (canvas.shape[1] * scale, canvas.shape[0] * scale))\n",
    "            cv2.imshow('Canvas', resized_canvas)\n",
    "            cv2.waitKey(0)\n",
    "            cv2.destroyAllWindows()\n"
   ],
   "metadata": {
    "collapsed": false,
    "pycharm": {
     "is_executing": true
    }
   }
  },
  {
   "cell_type": "code",
   "execution_count": null,
   "outputs": [],
   "source": [
    "show_4()"
   ],
   "metadata": {
    "collapsed": false
   }
  }
 ],
 "metadata": {
  "kernelspec": {
   "display_name": "Python 3",
   "language": "python",
   "name": "python3"
  },
  "language_info": {
   "codemirror_mode": {
    "name": "ipython",
    "version": 2
   },
   "file_extension": ".py",
   "mimetype": "text/x-python",
   "name": "python",
   "nbconvert_exporter": "python",
   "pygments_lexer": "ipython2",
   "version": "2.7.6"
  }
 },
 "nbformat": 4,
 "nbformat_minor": 0
}
